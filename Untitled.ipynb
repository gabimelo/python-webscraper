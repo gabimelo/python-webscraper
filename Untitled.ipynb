{
 "cells": [
  {
   "cell_type": "code",
   "execution_count": 49,
   "metadata": {},
   "outputs": [],
   "source": [
    "import pandas as pd\n",
    "import matplotlib.pyplot as plt\n",
    "import seaborn as sns\n",
    "\n",
    "%matplotlib inline"
   ]
  },
  {
   "cell_type": "code",
   "execution_count": 50,
   "metadata": {},
   "outputs": [],
   "source": [
    "df = pd.read_csv('test.csv', sep='-', names=['position', 'band', 'song'])"
   ]
  },
  {
   "cell_type": "code",
   "execution_count": 4,
   "metadata": {},
   "outputs": [],
   "source": [
    "series = df.band.value_counts()[df.band.value_counts() > 1]\n",
    "\n",
    "plt.figure(figsize=(5, 15))\n",
    "sns.barplot(series.values, series.index);"
   ]
  },
  {
   "cell_type": "code",
   "execution_count": 14,
   "metadata": {},
   "outputs": [],
   "source": [
    "def get_first_letter(band):\n",
    "    band = band.lstrip()\n",
    "    \n",
    "    if band[:3].lower() == 'the':\n",
    "        band = band[3:].lstrip()\n",
    "    \n",
    "    return band[0]\n",
    "\n",
    "df['first_letter'] = df.band.map(get_first_letter)"
   ]
  },
  {
   "cell_type": "code",
   "execution_count": 40,
   "metadata": {},
   "outputs": [
    {
     "data": {
      "image/png": "[encoded data removed]",
      "text/plain": [
       "<Figure size 360x720 with 1 Axes>"
      ]
     },
     "metadata": {
      "needs_background": "light"
     },
     "output_type": "display_data"
    }
   ],
   "source": [
    "series = df.groupby(['first_letter', 'band']).position.count().reset_index().first_letter.value_counts()\n",
    "\n",
    "plt.figure(figsize=(5, 10))\n",
    "sns.barplot(series.values, series.index);"
   ]
  },
  {
   "cell_type": "code",
   "execution_count": 75,
   "metadata": {},
   "outputs": [],
   "source": [
    "import requests\n",
    "from bs4 import BeautifulSoup\n",
    "import string"
   ]
  },
  {
   "cell_type": "code",
   "execution_count": null,
   "metadata": {},
   "outputs": [],
   "source": [
    "#     except AssertionError:\n",
    "#         print('URL did not work: {}'.format(URL))\n",
    "#         return year\n",
    "    \n",
    "#     try:"
   ]
  },
  {
   "cell_type": "code",
   "execution_count": 100,
   "metadata": {},
   "outputs": [],
   "source": [
    "request_worked = False\n",
    "band_name_in_content = False\n",
    "\n",
    "\n",
    "def make_request(URL, band_name):\n",
    "    r = requests.get(URL)\n",
    "    try:\n",
    "        assert r.status_code == 200\n",
    "        assert band_name.lower().lstrip().rstrip() in str(r.content).lower()\n",
    "        assert 'For the {} song, see'.format(band_name.lstrip().replace(\"\\'\", '%27')\\\n",
    "                                                .replace(\"’\", '%27')).lower() \\\n",
    "                                             not in str(r.content).lower() \n",
    "        return r\n",
    "    except AssertionError:\n",
    "        return None\n",
    "\n",
    "def find_song_year(song_name, band_name, year=''):\n",
    "    if year != '':\n",
    "        return year\n",
    "    \n",
    "    song_name = \"_\".join(string.capwords(song_name).split())\n",
    "    year = ''\n",
    "    \n",
    "    base_URL = \"https://en.wikipedia.org/wiki/{}\".format(song_name.replace(\"\\'\", '%27')\\\n",
    "                                                .replace(\"’\", '%27'))\n",
    "    URL = base_URL\n",
    "    \n",
    "    r = make_request(URL, band_name)\n",
    "\n",
    "    if r is None:\n",
    "        URL = base_URL + '_(song)'\n",
    "        r = make_request(URL, band_name)\n",
    "    if r is None:\n",
    "        URL = base_URL + '_({}_song)'.\\\n",
    "                         format(\"_\".join(string.capwords(band_name.lstrip().replace(\"\\'\", '%27')\\\n",
    "                                                .replace(\"’\", '%27')).split()))\n",
    "        r = make_request(URL, band_name)\n",
    "    if r is None:\n",
    "        print('URL might not be correct (didnt find band name): {}, band_name: {}'.format(URL, band_name))\n",
    "        return year\n",
    "\n",
    "    soup = BeautifulSoup(r.content, 'html5lib')\n",
    "\n",
    "    try:\n",
    "        soup = soup.find_all(class_=\"infobox vevent\")[0]\n",
    "    except IndexError:\n",
    "        if '(song)' not in URL:\n",
    "            URL = base_URL + '_(song)'\n",
    "            r = make_request(URL, band_name)\n",
    "        if r is None or '_song)' not in URL:\n",
    "            URL = base_URL + '_({}_song)'.\\\n",
    "                         format(\"_\".join(string.capwords(band_name.lstrip().replace(\"\\'\", '%27')\\\n",
    "                                                .replace(\"’\", '%27')).split()))\n",
    "            r = make_request(URL, band_name)\n",
    "            \n",
    "        if r is not None:\n",
    "            soup = BeautifulSoup(r.content, 'html5lib')\n",
    "            try:\n",
    "                soup = soup.find_all(class_=\"infobox vevent\")[0]\n",
    "            except IndexError:\n",
    "                print('couldnt find infobox vevent at URL {}'.format(URL))\n",
    "                return year\n",
    "        else:\n",
    "            print('couldnt find infobox vevent at URL {}'.format(URL))\n",
    "            return year\n",
    "        \n",
    "    try:\n",
    "        released = soup.find_all('th', text='Released')[0]\n",
    "    except IndexError:\n",
    "        print('couldnt find Released at URL {}'.format(URL))\n",
    "        return year\n",
    "        \n",
    "    try:\n",
    "        released_date = released.find_next_siblings()[0]\n",
    "        released_date = released_date.text.split()\n",
    "    except IndexError:\n",
    "        print('couldnt find released date at URL {}'.format(URL))\n",
    "        return year\n",
    "    \n",
    "    for i in released_date:\n",
    "        try:\n",
    "            int(i)\n",
    "            if len(i) == 4:\n",
    "                year = i\n",
    "        except:\n",
    "            pass\n",
    "    \n",
    "    return year"
   ]
  },
  {
   "cell_type": "code",
   "execution_count": null,
   "metadata": {},
   "outputs": [
    {
     "name": "stdout",
     "output_type": "stream",
     "text": [
      "URL might not be correct (didnt find band name): https://en.wikipedia.org/wiki/Hard_As_A_Rock_(Ac/dc_song), band_name:  AC/DC \n",
      "couldnt find infobox vevent at URL https://en.wikipedia.org/wiki/Kings_And_Queens_(Thirty_Seconds_To_Mars_song)\n",
      "couldnt find infobox vevent at URL https://en.wikipedia.org/wiki/Lick_It_Up_(Kiss_song)\n",
      "couldnt find infobox vevent at URL https://en.wikipedia.org/wiki/Santeria_(Sublime_song)\n",
      "couldnt find infobox vevent at URL https://en.wikipedia.org/wiki/Cold_Fire_(Rush_song)\n",
      "couldnt find infobox vevent at URL https://en.wikipedia.org/wiki/Alive_And_Kicking_(Simple_Minds_song)\n",
      "couldnt find infobox vevent at URL https://en.wikipedia.org/wiki/A_Hard_Day%27s_Night_(The_Beatles_song)\n",
      "couldnt find infobox vevent at URL https://en.wikipedia.org/wiki/Imitation_Of_Life_(R.e.m._song)\n",
      "URL might not be correct (didnt find band name): https://en.wikipedia.org/wiki/51st_State_Of_America_(New_Model_Army_song), band_name:  NEW MODEL ARMY \n",
      "couldnt find infobox vevent at URL https://en.wikipedia.org/wiki/We_Care_A_Lot_(Faith_No_More_song)\n",
      "couldnt find infobox vevent at URL https://en.wikipedia.org/wiki/Full_Circle_(Aerosmith_song)\n",
      "couldnt find infobox vevent at URL https://en.wikipedia.org/wiki/Around_The_World_(Red_Hot_Chili_Peppers_song)\n",
      "couldnt find infobox vevent at URL https://en.wikipedia.org/wiki/Not_Enough_(Van_Halen_song)\n",
      "couldnt find infobox vevent at URL https://en.wikipedia.org/wiki/Take_Cover_(Mr._Big_song)\n",
      "URL might not be correct (didnt find band name): https://en.wikipedia.org/wiki/Livin%27_On_The_Edge_(Aerosmith_song), band_name:  AEROSMITH \n",
      "URL might not be correct (didnt find band name): https://en.wikipedia.org/wiki/In_The_Midnight_Hour_(The_Commitments_song), band_name:  THE COMMITMENTS \n"
     ]
    }
   ],
   "source": [
    "df['year'] = df.apply(lambda row: find_song_year(row.song, row.band, row.year), axis=1)"
   ]
  },
  {
   "cell_type": "code",
   "execution_count": null,
   "metadata": {},
   "outputs": [],
   "source": [
    "https://en.wikipedia.org/wiki/A_Hard_Day%27s_Night_(song)"
   ]
  },
  {
   "cell_type": "code",
   "execution_count": null,
   "metadata": {},
   "outputs": [],
   "source": [
    "df.year.value_counts()"
   ]
  },
  {
   "cell_type": "code",
   "execution_count": null,
   "metadata": {},
   "outputs": [],
   "source": []
  }
 ],
 "metadata": {
  "kernelspec": {
   "display_name": "Python 3",
   "language": "python",
   "name": "python3"
  },
  "language_info": {
   "codemirror_mode": {
    "name": "ipython",
    "version": 3
   },
   "file_extension": ".py",
   "mimetype": "text/x-python",
   "name": "python",
   "nbconvert_exporter": "python",
   "pygments_lexer": "ipython3",
   "version": "3.6.6"
  }
 },
 "nbformat": 4,
 "nbformat_minor": 2
}
